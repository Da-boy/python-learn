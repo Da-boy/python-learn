{
 "cells": [
  {
   "cell_type": "code",
   "execution_count": 2,
   "metadata": {},
   "outputs": [
    {
     "data": {
      "text/plain": [
       "'D:\\\\!!!Sync\\\\!!!SyncM6800\\\\code\\\\python\\\\myPythonClass201810081500\\\\p20180913input\\\\DimensionalityReduction\\\\week14c'"
      ]
     },
     "execution_count": 2,
     "metadata": {},
     "output_type": "execute_result"
    }
   ],
   "source": [
    "import os\n",
    "thisFilePath=os.path.abspath('.')\n",
    "os.chdir(thisFilePath)\n",
    "os.getcwd()"
   ]
  },
  {
   "cell_type": "code",
   "execution_count": 5,
   "metadata": {},
   "outputs": [
    {
     "data": {
      "text/plain": [
       "matrix([[1, 2, 3],\n",
       "        [4, 5, 6]])"
      ]
     },
     "execution_count": 5,
     "metadata": {},
     "output_type": "execute_result"
    }
   ],
   "source": [
    "from numpy import linalg\n",
    "import array\n",
    "import numpy as np\n",
    "\n",
    "A=np.mat([[1,2,3],[4,5,6]])  \n",
    "\n",
    "A"
   ]
  },
  {
   "cell_type": "code",
   "execution_count": 7,
   "metadata": {},
   "outputs": [
    {
     "name": "stdout",
     "output_type": "stream",
     "text": [
      "U [[-0.3863177  -0.92236578]\n",
      " [-0.92236578  0.3863177 ]]\n",
      "Sigma [9.508032   0.77286964]\n",
      "VT [[-0.42866713 -0.56630692 -0.7039467 ]\n",
      " [ 0.80596391  0.11238241 -0.58119908]\n",
      " [ 0.40824829 -0.81649658  0.40824829]]\n"
     ]
    }
   ],
   "source": [
    "U,Sigma,VT=linalg.svd(A)  \n",
    "print(\"U\",U)\n",
    "print(\"Sigma\",Sigma)\n",
    "print(\"VT\",VT)"
   ]
  },
  {
   "cell_type": "code",
   "execution_count": 8,
   "metadata": {},
   "outputs": [
    {
     "name": "stdout",
     "output_type": "stream",
     "text": [
      "Sigma [9.508032 0.      ]\n"
     ]
    }
   ],
   "source": [
    "Sigma[1]=0 # 降维\n",
    "print(\"Sigma\",Sigma)"
   ]
  },
  {
   "cell_type": "code",
   "execution_count": 5,
   "metadata": {},
   "outputs": [
    {
     "data": {
      "text/plain": [
       "array([[9.508032, 0.      , 0.      ],\n",
       "       [0.      , 0.      , 0.      ]])"
      ]
     },
     "execution_count": 5,
     "metadata": {},
     "output_type": "execute_result"
    }
   ],
   "source": [
    "S = np.zeros((2,3))\n",
    "S[:2, :2] = np.diag(Sigma)\n",
    "S"
   ]
  },
  {
   "cell_type": "code",
   "execution_count": 6,
   "metadata": {},
   "outputs": [
    {
     "name": "stdout",
     "output_type": "stream",
     "text": [
      "A conv: [[-38.7526545    0.           0.        ]\n",
      " [-51.19565893   0.           0.        ]\n",
      " [-63.63866337   0.           0.        ]]\n"
     ]
    }
   ],
   "source": [
    "print(\"A conv:\", np.dot(np.dot(A.T, U), S)) # 原始数据转到低维"
   ]
  },
  {
   "cell_type": "code",
   "execution_count": 7,
   "metadata": {},
   "outputs": [
    {
     "name": "stdout",
     "output_type": "stream",
     "text": [
      "A': [[1.57454629 2.08011388 2.58568148]\n",
      " [3.75936076 4.96644562 6.17353048]]\n"
     ]
    }
   ],
   "source": [
    "print(\"A':\", np.dot(np.dot(U, S), VT)) # 恢复原始维度"
   ]
  },
  {
   "cell_type": "code",
   "execution_count": null,
   "metadata": {},
   "outputs": [],
   "source": []
  }
 ],
 "metadata": {
  "kernelspec": {
   "display_name": "Python 3",
   "language": "python",
   "name": "python3"
  },
  "language_info": {
   "codemirror_mode": {
    "name": "ipython",
    "version": 3
   },
   "file_extension": ".py",
   "mimetype": "text/x-python",
   "name": "python",
   "nbconvert_exporter": "python",
   "pygments_lexer": "ipython3",
   "version": "3.6.5"
  }
 },
 "nbformat": 4,
 "nbformat_minor": 2
}
