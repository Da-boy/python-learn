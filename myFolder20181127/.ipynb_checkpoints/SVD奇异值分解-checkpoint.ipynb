{
 "cells": [
  {
   "cell_type": "code",
   "execution_count": 1,
   "metadata": {},
   "outputs": [
    {
     "data": {
      "text/plain": [
       "(100, 6)"
      ]
     },
     "execution_count": 1,
     "metadata": {},
     "output_type": "execute_result"
    }
   ],
   "source": [
    "import numpy as np\n",
    "import pandas as pd\n",
    "import math\n",
    "import matplotlib.pyplot as plt\n",
    "mydata = pd.read_csv('DataForClassify(1).csv',encoding=\"gb2312\",usecols = ['yuwen','lishi','zhengzhi','shuxue','wuli','huaxue','ClassifyResult'])\n",
    "train_x=mydata.iloc[:,1:7].values\n",
    "train_y=mydata.iloc[:,0].values\n",
    "mydata_std=(train_x-train_x.mean())/np.std(train_x)\n",
    "# mydata_std[:5]\n",
    "# mydata_std=pd.DataFrame(mydata_std)\n",
    "# mydata_dot=np.dot(mydata_std.T,mydata_std)/100\n",
    "# print(mydata_dot)\n",
    "# mydata_cov=np.cov(mydata_std,rowvar=0)\n",
    "# print(mydata_cov)\n",
    "mydata_std.shape"
   ]
  },
  {
   "cell_type": "code",
   "execution_count": 163,
   "metadata": {
    "scrolled": false
   },
   "outputs": [
    {
     "name": "stdout",
     "output_type": "stream",
     "text": [
      "[[-0.4490825  -0.35387554 -0.39010136  0.38299755  0.41868271  0.44602197]\n",
      " [-0.6540505  -0.06446246  0.04758006 -0.72690857  0.11717015 -0.15386281]\n",
      " [ 0.18206315  0.30010604  0.53233787 -0.13489689  0.64731501  0.39521116]\n",
      " [-0.19695327  0.06776536  0.24474461 -0.06352989 -0.62378867  0.70962595]\n",
      " [ 0.17457367 -0.8628879   0.46974444 -0.04204671 -0.01483686 -0.04796463]\n",
      " [-0.51781203  0.17715918  0.53067287  0.54855781 -0.05125213 -0.33960149]]\n"
     ]
    }
   ],
   "source": [
    "U,Sigma,VT=linalg.svd(mydata_std)\n",
    "print(VT)"
   ]
  },
  {
   "cell_type": "code",
   "execution_count": 164,
   "metadata": {},
   "outputs": [
    {
     "name": "stdout",
     "output_type": "stream",
     "text": [
      "(100, 7) (100, 100) (6,) (6, 6)\n"
     ]
    }
   ],
   "source": [
    "print(mydata.shape,U.shape,Sigma.shape,VT.shape)"
   ]
  },
  {
   "cell_type": "code",
   "execution_count": 165,
   "metadata": {},
   "outputs": [
    {
     "data": {
      "text/plain": [
       "7"
      ]
     },
     "execution_count": 165,
     "metadata": {},
     "output_type": "execute_result"
    }
   ],
   "source": [
    "col=mydata.columns.size;\n",
    "col"
   ]
  },
  {
   "cell_type": "code",
   "execution_count": 166,
   "metadata": {},
   "outputs": [
    {
     "name": "stdout",
     "output_type": "stream",
     "text": [
      "第1个公因子的累积贡献率是：0.378935378408\n",
      "第2个公因子的累积贡献率是：0.537525006144\n",
      "第3个公因子的累积贡献率是：0.680115644435\n",
      "第4个公因子的累积贡献率是：0.796189430764\n",
      "第5个公因子的累积贡献率是：0.90142426729\n",
      "第6个公因子的累积贡献率是：1.0\n"
     ]
    }
   ],
   "source": [
    "for m in range(1,len(VT)+1):\n",
    "    print(\"第\"+str(m)+\"个公因子的累积贡献率是：\"+str(Sigma[:m].sum() /Sigma.sum()))   "
   ]
  },
  {
   "cell_type": "code",
   "execution_count": 167,
   "metadata": {},
   "outputs": [
    {
     "data": {
      "text/plain": [
       "array([5, 4, 3, 2, 1, 0], dtype=int64)"
      ]
     },
     "execution_count": 167,
     "metadata": {},
     "output_type": "execute_result"
    }
   ],
   "source": [
    "SigmaSortIndex=np.argsort(Sigma)\n",
    "SigmaSortIndex"
   ]
  },
  {
   "cell_type": "code",
   "execution_count": 168,
   "metadata": {},
   "outputs": [
    {
     "data": {
      "text/plain": [
       "array([ 19.64074952,   8.21992174])"
      ]
     },
     "execution_count": 168,
     "metadata": {},
     "output_type": "execute_result"
    }
   ],
   "source": [
    "k=2\n",
    "Sigma_value2=Sigma[:k]\n",
    "Sigma_value2"
   ]
  },
  {
   "cell_type": "code",
   "execution_count": 169,
   "metadata": {},
   "outputs": [
    {
     "data": {
      "text/plain": [
       "array([0, 1], dtype=int64)"
      ]
     },
     "execution_count": 169,
     "metadata": {},
     "output_type": "execute_result"
    }
   ],
   "source": [
    "SigmaSortIndex2=SigmaSortIndex[:-(k+1):-1]\n",
    "SigmaSortIndex2"
   ]
  },
  {
   "cell_type": "code",
   "execution_count": 170,
   "metadata": {},
   "outputs": [
    {
     "data": {
      "text/plain": [
       "array([[-0.4490825 , -0.35387554],\n",
       "       [-0.6540505 , -0.06446246],\n",
       "       [ 0.18206315,  0.30010604],\n",
       "       [-0.19695327,  0.06776536],\n",
       "       [ 0.17457367, -0.8628879 ],\n",
       "       [-0.51781203,  0.17715918]])"
      ]
     },
     "execution_count": 170,
     "metadata": {},
     "output_type": "execute_result"
    }
   ],
   "source": [
    "VT2=VT[:,SigmaSortIndex2]\n",
    "VT2"
   ]
  },
  {
   "cell_type": "code",
   "execution_count": 173,
   "metadata": {},
   "outputs": [
    {
     "data": {
      "text/plain": [
       "(100, 2)"
      ]
     },
     "execution_count": 173,
     "metadata": {},
     "output_type": "execute_result"
    }
   ],
   "source": [
    "# 降维结果\n",
    "train_x_std=np.mat(mydata_std)*np.mat(VT2)\n",
    "train_x_std.shape"
   ]
  },
  {
   "cell_type": "code",
   "execution_count": 174,
   "metadata": {},
   "outputs": [
    {
     "data": {
      "image/png": "[encoded data removed]",
      "text/plain": [
       "<matplotlib.figure.Figure at 0x1c691f1ecf8>"
      ]
     },
     "metadata": {},
     "output_type": "display_data"
    }
   ],
   "source": [
    "import matplotlib.pyplot as plt\n",
    "test_x=pd.DataFrame(train_x_std);\n",
    "test_y=pd.DataFrame(train_y);\n",
    "plt.scatter(test_x.iloc[:, 0], test_x.iloc[:, 1], c=test_y.iloc[:,0])    # 圈中测试集样本\n",
    "plt.show()"
   ]
  },
  {
   "cell_type": "code",
   "execution_count": null,
   "metadata": {
    "collapsed": true
   },
   "outputs": [],
   "source": []
  }
 ],
 "metadata": {
  "kernelspec": {
   "display_name": "Python 3",
   "language": "python",
   "name": "python3"
  },
  "language_info": {
   "codemirror_mode": {
    "name": "ipython",
    "version": 3
   },
   "file_extension": ".py",
   "mimetype": "text/x-python",
   "name": "python",
   "nbconvert_exporter": "python",
   "pygments_lexer": "ipython3",
   "version": "3.6.5"
  }
 },
 "nbformat": 4,
 "nbformat_minor": 2
}
