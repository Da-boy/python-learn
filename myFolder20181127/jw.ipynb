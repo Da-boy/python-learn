{
 "cells": [
  {
   "cell_type": "code",
   "execution_count": 1,
   "metadata": {},
   "outputs": [
    {
     "data": {
      "text/plain": [
       "'C:\\\\Users\\\\Administrator\\\\Desktop\\\\python课程\\\\myFolder20181127'"
      ]
     },
     "execution_count": 1,
     "metadata": {},
     "output_type": "execute_result"
    }
   ],
   "source": [
    "import os\n",
    "os.environ[\"PATH\"] += os.pathsep + 'E:\\\\Anaconda3\\\\Library\\\\bin\\\\graphviz'\n",
    "\n",
    "thisFilePath=os.path.abspath('.')\n",
    "os.chdir(thisFilePath)\n",
    "os.getcwd()\n"
   ]
  },
  {
   "cell_type": "code",
   "execution_count": 7,
   "metadata": {},
   "outputs": [],
   "source": [
    "import pandas as pd\n",
    "mydata = pd.read_csv('DataForClassify.csv',encoding=\"gb2312\",usecols = ['yuwen','lishi','zhengzhi','shuxue','wuli','huaxue'])\n",
    "\n",
    "train_x=mydata.iloc[:,1:7].values\n",
    "train_y=mydata.iloc[:,-1].values"
   ]
  },
  {
   "cell_type": "code",
   "execution_count": null,
   "metadata": {},
   "outputs": [],
   "source": []
  },
  {
   "cell_type": "code",
   "execution_count": 8,
   "metadata": {},
   "outputs": [
    {
     "data": {
      "text/plain": [
       "array([51, 81, 80, 80, 75], dtype=int64)"
      ]
     },
     "execution_count": 8,
     "metadata": {},
     "output_type": "execute_result"
    }
   ],
   "source": [
    "train_y[:5]"
   ]
  },
  {
   "cell_type": "code",
   "execution_count": 13,
   "metadata": {},
   "outputs": [
    {
     "data": {
      "text/plain": [
       "array([[ 85.75545455,  58.78353535, -53.07444444, -54.97636364,\n",
       "        -59.09090909],\n",
       "       [ 58.78353535,  99.64959596, -61.52232323, -60.28060606,\n",
       "        -64.49494949],\n",
       "       [-53.07444444, -61.52232323, 108.52636364,  65.37353535,\n",
       "         76.50505051],\n",
       "       [-54.97636364, -60.28060606,  65.37353535, 107.99636364,\n",
       "         70.70707071],\n",
       "       [-59.09090909, -64.49494949,  76.50505051,  70.70707071,\n",
       "        116.56565657]])"
      ]
     },
     "execution_count": 13,
     "metadata": {},
     "output_type": "execute_result"
    }
   ],
   "source": [
    "import numpy as np\n",
    "train_x_mean=np.mean(train_x,axis=0)\n",
    "train_x_meanDrop=train_x-train_x_mean\n",
    "train_x_cov=np.cov(train_x_meanDrop,rowvar=0)\n",
    "train_x_cov"
   ]
  },
  {
   "cell_type": "code",
   "execution_count": null,
   "metadata": {},
   "outputs": [],
   "source": []
  },
  {
   "cell_type": "code",
   "execution_count": 14,
   "metadata": {},
   "outputs": [
    {
     "data": {
      "text/html": [
       "<div>\n",
       "<style scoped>\n",
       "    .dataframe tbody tr th:only-of-type {\n",
       "        vertical-align: middle;\n",
       "    }\n",
       "\n",
       "    .dataframe tbody tr th {\n",
       "        vertical-align: top;\n",
       "    }\n",
       "\n",
       "    .dataframe thead th {\n",
       "        text-align: right;\n",
       "    }\n",
       "</style>\n",
       "<table border=\"1\" class=\"dataframe\">\n",
       "  <thead>\n",
       "    <tr style=\"text-align: right;\">\n",
       "      <th></th>\n",
       "      <th>yuwen</th>\n",
       "      <th>lishi</th>\n",
       "      <th>zhengzhi</th>\n",
       "      <th>shuxue</th>\n",
       "      <th>wuli</th>\n",
       "      <th>huaxue</th>\n",
       "    </tr>\n",
       "  </thead>\n",
       "  <tbody>\n",
       "    <tr>\n",
       "      <th>yuwen</th>\n",
       "      <td>1.000000</td>\n",
       "      <td>0.697769</td>\n",
       "      <td>0.740321</td>\n",
       "      <td>-0.529724</td>\n",
       "      <td>-0.543280</td>\n",
       "      <td>-0.576379</td>\n",
       "    </tr>\n",
       "    <tr>\n",
       "      <th>lishi</th>\n",
       "      <td>0.697769</td>\n",
       "      <td>1.000000</td>\n",
       "      <td>0.635897</td>\n",
       "      <td>-0.550157</td>\n",
       "      <td>-0.571269</td>\n",
       "      <td>-0.591023</td>\n",
       "    </tr>\n",
       "    <tr>\n",
       "      <th>zhengzhi</th>\n",
       "      <td>0.740321</td>\n",
       "      <td>0.635897</td>\n",
       "      <td>1.000000</td>\n",
       "      <td>-0.591599</td>\n",
       "      <td>-0.581079</td>\n",
       "      <td>-0.598415</td>\n",
       "    </tr>\n",
       "    <tr>\n",
       "      <th>shuxue</th>\n",
       "      <td>-0.529724</td>\n",
       "      <td>-0.550157</td>\n",
       "      <td>-0.591599</td>\n",
       "      <td>1.000000</td>\n",
       "      <td>0.603851</td>\n",
       "      <td>0.680201</td>\n",
       "    </tr>\n",
       "    <tr>\n",
       "      <th>wuli</th>\n",
       "      <td>-0.543280</td>\n",
       "      <td>-0.571269</td>\n",
       "      <td>-0.581079</td>\n",
       "      <td>0.603851</td>\n",
       "      <td>1.000000</td>\n",
       "      <td>0.630192</td>\n",
       "    </tr>\n",
       "    <tr>\n",
       "      <th>huaxue</th>\n",
       "      <td>-0.576379</td>\n",
       "      <td>-0.591023</td>\n",
       "      <td>-0.598415</td>\n",
       "      <td>0.680201</td>\n",
       "      <td>0.630192</td>\n",
       "      <td>1.000000</td>\n",
       "    </tr>\n",
       "  </tbody>\n",
       "</table>\n",
       "</div>"
      ],
      "text/plain": [
       "             yuwen     lishi  zhengzhi    shuxue      wuli    huaxue\n",
       "yuwen     1.000000  0.697769  0.740321 -0.529724 -0.543280 -0.576379\n",
       "lishi     0.697769  1.000000  0.635897 -0.550157 -0.571269 -0.591023\n",
       "zhengzhi  0.740321  0.635897  1.000000 -0.591599 -0.581079 -0.598415\n",
       "shuxue   -0.529724 -0.550157 -0.591599  1.000000  0.603851  0.680201\n",
       "wuli     -0.543280 -0.571269 -0.581079  0.603851  1.000000  0.630192\n",
       "huaxue   -0.576379 -0.591023 -0.598415  0.680201  0.630192  1.000000"
      ]
     },
     "execution_count": 14,
     "metadata": {},
     "output_type": "execute_result"
    }
   ],
   "source": [
    "mydata = pd.read_csv('DataForClassify.csv',encoding=\"gb2312\",usecols=['yuwen','lishi','zhengzhi','shuxue','wuli','huaxue'])\n",
    "R=mydata.corr()\n",
    "R"
   ]
  },
  {
   "cell_type": "code",
   "execution_count": null,
   "metadata": {},
   "outputs": [],
   "source": []
  },
  {
   "cell_type": "code",
   "execution_count": 15,
   "metadata": {},
   "outputs": [
    {
     "data": {
      "text/html": [
       "<div>\n",
       "<style scoped>\n",
       "    .dataframe tbody tr th:only-of-type {\n",
       "        vertical-align: middle;\n",
       "    }\n",
       "\n",
       "    .dataframe tbody tr th {\n",
       "        vertical-align: top;\n",
       "    }\n",
       "\n",
       "    .dataframe thead th {\n",
       "        text-align: right;\n",
       "    }\n",
       "</style>\n",
       "<table border=\"1\" class=\"dataframe\">\n",
       "  <thead>\n",
       "    <tr style=\"text-align: right;\">\n",
       "      <th></th>\n",
       "      <th>eig_value</th>\n",
       "    </tr>\n",
       "  </thead>\n",
       "  <tbody>\n",
       "    <tr>\n",
       "      <th>0</th>\n",
       "      <td>355.653835</td>\n",
       "    </tr>\n",
       "    <tr>\n",
       "      <th>1</th>\n",
       "      <td>49.825193</td>\n",
       "    </tr>\n",
       "    <tr>\n",
       "      <th>2</th>\n",
       "      <td>32.536068</td>\n",
       "    </tr>\n",
       "    <tr>\n",
       "      <th>3</th>\n",
       "      <td>36.648178</td>\n",
       "    </tr>\n",
       "    <tr>\n",
       "      <th>4</th>\n",
       "      <td>43.830160</td>\n",
       "    </tr>\n",
       "  </tbody>\n",
       "</table>\n",
       "</div>"
      ],
      "text/plain": [
       "    eig_value\n",
       "0  355.653835\n",
       "1   49.825193\n",
       "2   32.536068\n",
       "3   36.648178\n",
       "4   43.830160"
      ]
     },
     "execution_count": 15,
     "metadata": {},
     "output_type": "execute_result"
    }
   ],
   "source": [
    "eig_value,eig_vector=np.linalg.eig(train_x_cov)\n",
    "eig=pd.DataFrame()\n",
    "eig['eig_value']=eig_value\n",
    "eig\n"
   ]
  },
  {
   "cell_type": "code",
   "execution_count": 17,
   "metadata": {},
   "outputs": [],
   "source": [
    "eig.sort_values('eig_value',ascending=False,inplace=True)"
   ]
  },
  {
   "cell_type": "code",
   "execution_count": 20,
   "metadata": {},
   "outputs": [
    {
     "name": "stdout",
     "output_type": "stream",
     "text": [
      "第1个主成分累计贡献率：0.6859370081241755\n",
      "第2个主成分累计贡献率：0.7820331005233101\n",
      "第3个主成分累计贡献率：0.8665667844998503\n",
      "第4个主成分累计贡献率：0.9372488330168346\n",
      "第5个主成分累计贡献率：1.0\n"
     ]
    }
   ],
   "source": [
    "\n",
    "eigSum=list()\n",
    "\n",
    "for m in range(1,len(eig)+1):\n",
    "               print(\"第\"+str(m)+\"个主成分累计贡献率：\"+str(eig['eig_value'][:m].sum()/eig['eig_value'].sum()))"
   ]
  },
  {
   "cell_type": "code",
   "execution_count": 21,
   "metadata": {},
   "outputs": [
    {
     "data": {
      "text/html": [
       "<div>\n",
       "<style scoped>\n",
       "    .dataframe tbody tr th:only-of-type {\n",
       "        vertical-align: middle;\n",
       "    }\n",
       "\n",
       "    .dataframe tbody tr th {\n",
       "        vertical-align: top;\n",
       "    }\n",
       "\n",
       "    .dataframe thead th {\n",
       "        text-align: right;\n",
       "    }\n",
       "</style>\n",
       "<table border=\"1\" class=\"dataframe\">\n",
       "  <thead>\n",
       "    <tr style=\"text-align: right;\">\n",
       "      <th></th>\n",
       "      <th>eig_value</th>\n",
       "    </tr>\n",
       "  </thead>\n",
       "  <tbody>\n",
       "    <tr>\n",
       "      <th>0</th>\n",
       "      <td>0</td>\n",
       "    </tr>\n",
       "    <tr>\n",
       "      <th>1</th>\n",
       "      <td>0</td>\n",
       "    </tr>\n",
       "    <tr>\n",
       "      <th>4</th>\n",
       "      <td>0</td>\n",
       "    </tr>\n",
       "    <tr>\n",
       "      <th>3</th>\n",
       "      <td>0</td>\n",
       "    </tr>\n",
       "    <tr>\n",
       "      <th>2</th>\n",
       "      <td>0</td>\n",
       "    </tr>\n",
       "  </tbody>\n",
       "</table>\n",
       "</div>"
      ],
      "text/plain": [
       "   eig_value\n",
       "0          0\n",
       "1          0\n",
       "4          0\n",
       "3          0\n",
       "2          0"
      ]
     },
     "execution_count": 21,
     "metadata": {},
     "output_type": "execute_result"
    }
   ],
   "source": [
    "np.argsort(eig)"
   ]
  },
  {
   "cell_type": "code",
   "execution_count": 22,
   "metadata": {},
   "outputs": [
    {
     "data": {
      "text/plain": [
       "array([2, 3, 4, 1, 0], dtype=int64)"
      ]
     },
     "execution_count": 22,
     "metadata": {},
     "output_type": "execute_result"
    }
   ],
   "source": [
    "eigSortIndex=np.argsort(eig_value)\n",
    "eigSortIndex"
   ]
  },
  {
   "cell_type": "code",
   "execution_count": 23,
   "metadata": {},
   "outputs": [
    {
     "data": {
      "text/html": [
       "<div>\n",
       "<style scoped>\n",
       "    .dataframe tbody tr th:only-of-type {\n",
       "        vertical-align: middle;\n",
       "    }\n",
       "\n",
       "    .dataframe tbody tr th {\n",
       "        vertical-align: top;\n",
       "    }\n",
       "\n",
       "    .dataframe thead th {\n",
       "        text-align: right;\n",
       "    }\n",
       "</style>\n",
       "<table border=\"1\" class=\"dataframe\">\n",
       "  <thead>\n",
       "    <tr style=\"text-align: right;\">\n",
       "      <th></th>\n",
       "      <th>0</th>\n",
       "      <th>1</th>\n",
       "      <th>2</th>\n",
       "      <th>3</th>\n",
       "      <th>4</th>\n",
       "    </tr>\n",
       "  </thead>\n",
       "  <tbody>\n",
       "    <tr>\n",
       "      <th>0</th>\n",
       "      <td>0.683661</td>\n",
       "      <td>-0.333417</td>\n",
       "      <td>0.075548</td>\n",
       "      <td>0.516647</td>\n",
       "      <td>0.385758</td>\n",
       "    </tr>\n",
       "    <tr>\n",
       "      <th>1</th>\n",
       "      <td>-0.562637</td>\n",
       "      <td>0.308197</td>\n",
       "      <td>0.243537</td>\n",
       "      <td>0.585727</td>\n",
       "      <td>0.431355</td>\n",
       "    </tr>\n",
       "    <tr>\n",
       "      <th>2</th>\n",
       "      <td>-0.332461</td>\n",
       "      <td>-0.569612</td>\n",
       "      <td>-0.358755</td>\n",
       "      <td>0.470759</td>\n",
       "      <td>-0.463349</td>\n",
       "    </tr>\n",
       "    <tr>\n",
       "      <th>3</th>\n",
       "      <td>0.033937</td>\n",
       "      <td>-0.139373</td>\n",
       "      <td>0.876061</td>\n",
       "      <td>0.076058</td>\n",
       "      <td>-0.454043</td>\n",
       "    </tr>\n",
       "    <tr>\n",
       "      <th>4</th>\n",
       "      <td>0.323055</td>\n",
       "      <td>0.670794</td>\n",
       "      <td>-0.196961</td>\n",
       "      <td>0.403238</td>\n",
       "      <td>-0.494243</td>\n",
       "    </tr>\n",
       "  </tbody>\n",
       "</table>\n",
       "</div>"
      ],
      "text/plain": [
       "          0         1         2         3         4\n",
       "0  0.683661 -0.333417  0.075548  0.516647  0.385758\n",
       "1 -0.562637  0.308197  0.243537  0.585727  0.431355\n",
       "2 -0.332461 -0.569612 -0.358755  0.470759 -0.463349\n",
       "3  0.033937 -0.139373  0.876061  0.076058 -0.454043\n",
       "4  0.323055  0.670794 -0.196961  0.403238 -0.494243"
      ]
     },
     "execution_count": 23,
     "metadata": {},
     "output_type": "execute_result"
    }
   ],
   "source": [
    "eigVectors2=pd.DataFrame(eig_vector[:,eigSortIndex])\n",
    "eigVectors2\n"
   ]
  },
  {
   "cell_type": "code",
   "execution_count": 31,
   "metadata": {},
   "outputs": [
    {
     "data": {
      "text/plain": [
       "array([51, 81, 80, 80, 75], dtype=int64)"
      ]
     },
     "execution_count": 31,
     "metadata": {},
     "output_type": "execute_result"
    }
   ],
   "source": [
    "train_x_meanDrop_Dimensionality=np.mat(train_x_meanDrop)*np.mat(eigVectors2)\n",
    "train_x_meanDrop_Dimensionality[0:5]\n",
    "train_y[:5]"
   ]
  },
  {
   "cell_type": "code",
   "execution_count": null,
   "metadata": {},
   "outputs": [],
   "source": []
  },
  {
   "cell_type": "code",
   "execution_count": null,
   "metadata": {},
   "outputs": [],
   "source": []
  },
  {
   "cell_type": "code",
   "execution_count": 32,
   "metadata": {},
   "outputs": [
    {
     "data": {
      "image/png": "[encoded data removed]",
      "text/plain": [
       "<Figure size 432x288 with 1 Axes>"
      ]
     },
     "metadata": {},
     "output_type": "display_data"
    }
   ],
   "source": [
    "import matplotlib.pyplot as plt\n",
    "myLegend=['WenKe','ZongHe','LiKe']\n",
    "train_x_meanDrop_Dimensionality=np.mat(train_x_meanDrop_Dimensionality)\n",
    "# for c,i,legend in zip('ryb',[1,2,3],legend):\n",
    "#     plt.scatter(train_x_meanDrop_Dimensionality[train_y==i,0].tolist(),train_x_meanDrop_Dimensionality[train_y==i,1].tolist(),c=c,lable=legend)\n",
    "for c ,i , myLegend in zip('ryb', [1, 2, 3], myLegend):\n",
    "    plt.scatter(train_x_meanDrop_Dimensionality[train_y == i,0].tolist(),train_x_meanDrop_Dimensionality[train_y == i,1].tolist(), c=c, label=myLegend)\n",
    "    \n",
    "plt.grid()\n",
    "plt.legend()\n",
    "plt.show()"
   ]
  },
  {
   "cell_type": "code",
   "execution_count": null,
   "metadata": {},
   "outputs": [],
   "source": []
  },
  {
   "cell_type": "code",
   "execution_count": null,
   "metadata": {},
   "outputs": [],
   "source": []
  },
  {
   "cell_type": "code",
   "execution_count": null,
   "metadata": {},
   "outputs": [],
   "source": []
  },
  {
   "cell_type": "code",
   "execution_count": null,
   "metadata": {},
   "outputs": [],
   "source": []
  },
  {
   "cell_type": "code",
   "execution_count": null,
   "metadata": {},
   "outputs": [],
   "source": []
  },
  {
   "cell_type": "code",
   "execution_count": null,
   "metadata": {},
   "outputs": [],
   "source": []
  },
  {
   "cell_type": "code",
   "execution_count": null,
   "metadata": {},
   "outputs": [],
   "source": []
  },
  {
   "cell_type": "code",
   "execution_count": null,
   "metadata": {},
   "outputs": [],
   "source": []
  },
  {
   "cell_type": "code",
   "execution_count": null,
   "metadata": {},
   "outputs": [],
   "source": []
  },
  {
   "cell_type": "code",
   "execution_count": null,
   "metadata": {},
   "outputs": [],
   "source": []
  },
  {
   "cell_type": "code",
   "execution_count": null,
   "metadata": {},
   "outputs": [],
   "source": []
  },
  {
   "cell_type": "code",
   "execution_count": null,
   "metadata": {},
   "outputs": [],
   "source": []
  },
  {
   "cell_type": "code",
   "execution_count": null,
   "metadata": {},
   "outputs": [],
   "source": []
  },
  {
   "cell_type": "code",
   "execution_count": null,
   "metadata": {},
   "outputs": [],
   "source": []
  },
  {
   "cell_type": "code",
   "execution_count": null,
   "metadata": {},
   "outputs": [],
   "source": []
  },
  {
   "cell_type": "code",
   "execution_count": null,
   "metadata": {},
   "outputs": [],
   "source": []
  },
  {
   "cell_type": "code",
   "execution_count": null,
   "metadata": {},
   "outputs": [],
   "source": []
  },
  {
   "cell_type": "code",
   "execution_count": null,
   "metadata": {},
   "outputs": [],
   "source": []
  },
  {
   "cell_type": "code",
   "execution_count": null,
   "metadata": {},
   "outputs": [],
   "source": []
  }
 ],
 "metadata": {
  "kernelspec": {
   "display_name": "Python 3",
   "language": "python",
   "name": "python3"
  },
  "language_info": {
   "codemirror_mode": {
    "name": "ipython",
    "version": 3
   },
   "file_extension": ".py",
   "mimetype": "text/x-python",
   "name": "python",
   "nbconvert_exporter": "python",
   "pygments_lexer": "ipython3",
   "version": "3.6.5"
  }
 },
 "nbformat": 4,
 "nbformat_minor": 2
}
